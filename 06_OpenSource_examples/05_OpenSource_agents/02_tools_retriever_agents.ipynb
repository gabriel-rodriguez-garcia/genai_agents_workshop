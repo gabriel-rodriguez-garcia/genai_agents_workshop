{
 "cells": [
  {
   "cell_type": "markdown",
   "id": "88a5ab2f-d044-4956-b75b-7408d9c3e323",
   "metadata": {},
   "source": [
    "# Leveraging Agents with LangChain\n",
    "\n",
    "> *This notebook should work well with the **`Data Science 3.0`** kernel in SageMaker Studio. You can also run on a local setup, as long as you have the right IAM credentials to invoke the Claude model via Bedrock*"
   ]
  },
  {
   "cell_type": "markdown",
   "id": "6aeedd9f-f0a3-4f8e-934d-22f6f7a89de5",
   "metadata": {},
   "source": [
    "### Building  - Key Elements\n",
    "\n",
    "The first process in a building a contextual-aware chatbot is to identify the tools which can be called by the LLM's. \n",
    "\n",
    "Second process is the user request orchestration , interaction,  invoking and returing the results\n",
    "\n",
    "### Architecture [Weather lookup]\n",
    "We Search and look for the Latitude and Longitude and then invoke the weather app to get predictions\n",
    "\n",
    "![Amazon Bedrock - Agents Interface](./images/weather.jpg)"
   ]
  },
  {
   "cell_type": "markdown",
   "id": "5b5edcc6",
   "metadata": {},
   "source": [
    "#### Please un comment and install the libraries below if you do not have these "
   ]
  },
  {
   "cell_type": "code",
   "execution_count": 3,
   "id": "d43a8c93",
   "metadata": {},
   "outputs": [
    {
     "name": "stdout",
     "output_type": "stream",
     "text": [
      "Requirement already satisfied: langchain==0.1.17 in /opt/conda/lib/python3.10/site-packages (0.1.17)\n",
      "Requirement already satisfied: PyYAML>=5.3 in /opt/conda/lib/python3.10/site-packages (from langchain==0.1.17) (6.0.1)\n",
      "Requirement already satisfied: SQLAlchemy<3,>=1.4 in /opt/conda/lib/python3.10/site-packages (from langchain==0.1.17) (2.0.29)\n",
      "Requirement already satisfied: aiohttp<4.0.0,>=3.8.3 in /opt/conda/lib/python3.10/site-packages (from langchain==0.1.17) (3.9.5)\n",
      "Requirement already satisfied: async-timeout<5.0.0,>=4.0.0 in /opt/conda/lib/python3.10/site-packages (from langchain==0.1.17) (4.0.3)\n",
      "Requirement already satisfied: dataclasses-json<0.7,>=0.5.7 in /opt/conda/lib/python3.10/site-packages (from langchain==0.1.17) (0.6.6)\n",
      "Requirement already satisfied: jsonpatch<2.0,>=1.33 in /opt/conda/lib/python3.10/site-packages (from langchain==0.1.17) (1.33)\n",
      "Requirement already satisfied: langchain-community<0.1,>=0.0.36 in /opt/conda/lib/python3.10/site-packages (from langchain==0.1.17) (0.0.38)\n",
      "Requirement already satisfied: langchain-core<0.2.0,>=0.1.48 in /opt/conda/lib/python3.10/site-packages (from langchain==0.1.17) (0.1.52)\n",
      "Requirement already satisfied: langchain-text-splitters<0.1,>=0.0.1 in /opt/conda/lib/python3.10/site-packages (from langchain==0.1.17) (0.0.2)\n",
      "Requirement already satisfied: langsmith<0.2.0,>=0.1.17 in /opt/conda/lib/python3.10/site-packages (from langchain==0.1.17) (0.1.60)\n",
      "Requirement already satisfied: numpy<2,>=1 in /opt/conda/lib/python3.10/site-packages (from langchain==0.1.17) (1.26.4)\n",
      "Requirement already satisfied: pydantic<3,>=1 in /opt/conda/lib/python3.10/site-packages (from langchain==0.1.17) (2.7.0)\n",
      "Requirement already satisfied: requests<3,>=2 in /opt/conda/lib/python3.10/site-packages (from langchain==0.1.17) (2.31.0)\n",
      "Requirement already satisfied: tenacity<9.0.0,>=8.1.0 in /opt/conda/lib/python3.10/site-packages (from langchain==0.1.17) (8.2.3)\n",
      "Requirement already satisfied: aiosignal>=1.1.2 in /opt/conda/lib/python3.10/site-packages (from aiohttp<4.0.0,>=3.8.3->langchain==0.1.17) (1.3.1)\n",
      "Requirement already satisfied: attrs>=17.3.0 in /opt/conda/lib/python3.10/site-packages (from aiohttp<4.0.0,>=3.8.3->langchain==0.1.17) (23.2.0)\n",
      "Requirement already satisfied: frozenlist>=1.1.1 in /opt/conda/lib/python3.10/site-packages (from aiohttp<4.0.0,>=3.8.3->langchain==0.1.17) (1.4.1)\n",
      "Requirement already satisfied: multidict<7.0,>=4.5 in /opt/conda/lib/python3.10/site-packages (from aiohttp<4.0.0,>=3.8.3->langchain==0.1.17) (6.0.5)\n",
      "Requirement already satisfied: yarl<2.0,>=1.0 in /opt/conda/lib/python3.10/site-packages (from aiohttp<4.0.0,>=3.8.3->langchain==0.1.17) (1.9.4)\n",
      "Requirement already satisfied: marshmallow<4.0.0,>=3.18.0 in /opt/conda/lib/python3.10/site-packages (from dataclasses-json<0.7,>=0.5.7->langchain==0.1.17) (3.21.1)\n",
      "Requirement already satisfied: typing-inspect<1,>=0.4.0 in /opt/conda/lib/python3.10/site-packages (from dataclasses-json<0.7,>=0.5.7->langchain==0.1.17) (0.9.0)\n",
      "Requirement already satisfied: jsonpointer>=1.9 in /opt/conda/lib/python3.10/site-packages (from jsonpatch<2.0,>=1.33->langchain==0.1.17) (2.4)\n",
      "Requirement already satisfied: packaging<24.0,>=23.2 in /opt/conda/lib/python3.10/site-packages (from langchain-core<0.2.0,>=0.1.48->langchain==0.1.17) (23.2)\n",
      "Requirement already satisfied: orjson<4.0.0,>=3.9.14 in /opt/conda/lib/python3.10/site-packages (from langsmith<0.2.0,>=0.1.17->langchain==0.1.17) (3.10.3)\n",
      "Requirement already satisfied: annotated-types>=0.4.0 in /opt/conda/lib/python3.10/site-packages (from pydantic<3,>=1->langchain==0.1.17) (0.6.0)\n",
      "Requirement already satisfied: pydantic-core==2.18.1 in /opt/conda/lib/python3.10/site-packages (from pydantic<3,>=1->langchain==0.1.17) (2.18.1)\n",
      "Requirement already satisfied: typing-extensions>=4.6.1 in /opt/conda/lib/python3.10/site-packages (from pydantic<3,>=1->langchain==0.1.17) (4.11.0)\n",
      "Requirement already satisfied: charset-normalizer<4,>=2 in /opt/conda/lib/python3.10/site-packages (from requests<3,>=2->langchain==0.1.17) (3.3.2)\n",
      "Requirement already satisfied: idna<4,>=2.5 in /opt/conda/lib/python3.10/site-packages (from requests<3,>=2->langchain==0.1.17) (3.6)\n",
      "Requirement already satisfied: urllib3<3,>=1.21.1 in /opt/conda/lib/python3.10/site-packages (from requests<3,>=2->langchain==0.1.17) (2.2.1)\n",
      "Requirement already satisfied: certifi>=2017.4.17 in /opt/conda/lib/python3.10/site-packages (from requests<3,>=2->langchain==0.1.17) (2024.2.2)\n",
      "Requirement already satisfied: greenlet!=0.4.17 in /opt/conda/lib/python3.10/site-packages (from SQLAlchemy<3,>=1.4->langchain==0.1.17) (3.0.3)\n",
      "Requirement already satisfied: mypy-extensions>=0.3.0 in /opt/conda/lib/python3.10/site-packages (from typing-inspect<1,>=0.4.0->dataclasses-json<0.7,>=0.5.7->langchain==0.1.17) (1.0.0)\n",
      "\u001b[33mWARNING: Running pip as the 'root' user can result in broken permissions and conflicting behaviour with the system package manager. It is recommended to use a virtual environment instead: https://pip.pypa.io/warnings/venv\u001b[0m\u001b[33m\n",
      "\u001b[0mRequirement already satisfied: faiss-cpu==1.8.0 in /opt/conda/lib/python3.10/site-packages (1.8.0)\n",
      "Requirement already satisfied: numpy in /opt/conda/lib/python3.10/site-packages (from faiss-cpu==1.8.0) (1.26.4)\n",
      "\u001b[33mWARNING: Running pip as the 'root' user can result in broken permissions and conflicting behaviour with the system package manager. It is recommended to use a virtual environment instead: https://pip.pypa.io/warnings/venv\u001b[0m\u001b[33m\n",
      "\u001b[0mRequirement already satisfied: pypdf in /opt/conda/lib/python3.10/site-packages (4.2.0)\n",
      "Requirement already satisfied: typing_extensions>=4.0 in /opt/conda/lib/python3.10/site-packages (from pypdf) (4.11.0)\n",
      "\u001b[33mWARNING: Running pip as the 'root' user can result in broken permissions and conflicting behaviour with the system package manager. It is recommended to use a virtual environment instead: https://pip.pypa.io/warnings/venv\u001b[0m\u001b[33m\n",
      "\u001b[0mRequirement already satisfied: langchain_aws in /opt/conda/lib/python3.10/site-packages (0.1.4)\n",
      "Requirement already satisfied: boto3<1.35.0,>=1.34.51 in /opt/conda/lib/python3.10/site-packages (from langchain_aws) (1.34.95)\n",
      "Requirement already satisfied: langchain-core<0.3,>=0.1.45 in /opt/conda/lib/python3.10/site-packages (from langchain_aws) (0.1.52)\n",
      "Requirement already satisfied: numpy<2,>=1 in /opt/conda/lib/python3.10/site-packages (from langchain_aws) (1.26.4)\n",
      "Requirement already satisfied: botocore<1.35.0,>=1.34.95 in /opt/conda/lib/python3.10/site-packages (from boto3<1.35.0,>=1.34.51->langchain_aws) (1.34.109)\n",
      "Requirement already satisfied: jmespath<2.0.0,>=0.7.1 in /opt/conda/lib/python3.10/site-packages (from boto3<1.35.0,>=1.34.51->langchain_aws) (1.0.1)\n",
      "Requirement already satisfied: s3transfer<0.11.0,>=0.10.0 in /opt/conda/lib/python3.10/site-packages (from boto3<1.35.0,>=1.34.51->langchain_aws) (0.10.1)\n",
      "Requirement already satisfied: PyYAML>=5.3 in /opt/conda/lib/python3.10/site-packages (from langchain-core<0.3,>=0.1.45->langchain_aws) (6.0.1)\n",
      "Requirement already satisfied: jsonpatch<2.0,>=1.33 in /opt/conda/lib/python3.10/site-packages (from langchain-core<0.3,>=0.1.45->langchain_aws) (1.33)\n",
      "Requirement already satisfied: langsmith<0.2.0,>=0.1.0 in /opt/conda/lib/python3.10/site-packages (from langchain-core<0.3,>=0.1.45->langchain_aws) (0.1.60)\n",
      "Requirement already satisfied: packaging<24.0,>=23.2 in /opt/conda/lib/python3.10/site-packages (from langchain-core<0.3,>=0.1.45->langchain_aws) (23.2)\n",
      "Requirement already satisfied: pydantic<3,>=1 in /opt/conda/lib/python3.10/site-packages (from langchain-core<0.3,>=0.1.45->langchain_aws) (2.7.0)\n",
      "Requirement already satisfied: tenacity<9.0.0,>=8.1.0 in /opt/conda/lib/python3.10/site-packages (from langchain-core<0.3,>=0.1.45->langchain_aws) (8.2.3)\n",
      "Requirement already satisfied: python-dateutil<3.0.0,>=2.1 in /opt/conda/lib/python3.10/site-packages (from botocore<1.35.0,>=1.34.95->boto3<1.35.0,>=1.34.51->langchain_aws) (2.9.0)\n",
      "Requirement already satisfied: urllib3!=2.2.0,<3,>=1.25.4 in /opt/conda/lib/python3.10/site-packages (from botocore<1.35.0,>=1.34.95->boto3<1.35.0,>=1.34.51->langchain_aws) (2.2.1)\n",
      "Requirement already satisfied: jsonpointer>=1.9 in /opt/conda/lib/python3.10/site-packages (from jsonpatch<2.0,>=1.33->langchain-core<0.3,>=0.1.45->langchain_aws) (2.4)\n",
      "Requirement already satisfied: orjson<4.0.0,>=3.9.14 in /opt/conda/lib/python3.10/site-packages (from langsmith<0.2.0,>=0.1.0->langchain-core<0.3,>=0.1.45->langchain_aws) (3.10.3)\n",
      "Requirement already satisfied: requests<3,>=2 in /opt/conda/lib/python3.10/site-packages (from langsmith<0.2.0,>=0.1.0->langchain-core<0.3,>=0.1.45->langchain_aws) (2.31.0)\n",
      "Requirement already satisfied: annotated-types>=0.4.0 in /opt/conda/lib/python3.10/site-packages (from pydantic<3,>=1->langchain-core<0.3,>=0.1.45->langchain_aws) (0.6.0)\n",
      "Requirement already satisfied: pydantic-core==2.18.1 in /opt/conda/lib/python3.10/site-packages (from pydantic<3,>=1->langchain-core<0.3,>=0.1.45->langchain_aws) (2.18.1)\n",
      "Requirement already satisfied: typing-extensions>=4.6.1 in /opt/conda/lib/python3.10/site-packages (from pydantic<3,>=1->langchain-core<0.3,>=0.1.45->langchain_aws) (4.11.0)\n",
      "Requirement already satisfied: six>=1.5 in /opt/conda/lib/python3.10/site-packages (from python-dateutil<3.0.0,>=2.1->botocore<1.35.0,>=1.34.95->boto3<1.35.0,>=1.34.51->langchain_aws) (1.16.0)\n",
      "Requirement already satisfied: charset-normalizer<4,>=2 in /opt/conda/lib/python3.10/site-packages (from requests<3,>=2->langsmith<0.2.0,>=0.1.0->langchain-core<0.3,>=0.1.45->langchain_aws) (3.3.2)\n",
      "Requirement already satisfied: idna<4,>=2.5 in /opt/conda/lib/python3.10/site-packages (from requests<3,>=2->langsmith<0.2.0,>=0.1.0->langchain-core<0.3,>=0.1.45->langchain_aws) (3.6)\n",
      "Requirement already satisfied: certifi>=2017.4.17 in /opt/conda/lib/python3.10/site-packages (from requests<3,>=2->langsmith<0.2.0,>=0.1.0->langchain-core<0.3,>=0.1.45->langchain_aws) (2024.2.2)\n",
      "\u001b[33mWARNING: Running pip as the 'root' user can result in broken permissions and conflicting behaviour with the system package manager. It is recommended to use a virtual environment instead: https://pip.pypa.io/warnings/venv\u001b[0m\u001b[33m\n",
      "\u001b[0mRequirement already satisfied: boto3 in /opt/conda/lib/python3.10/site-packages (1.34.95)\n",
      "Requirement already satisfied: botocore<1.35.0,>=1.34.95 in /opt/conda/lib/python3.10/site-packages (from boto3) (1.34.109)\n",
      "Requirement already satisfied: jmespath<2.0.0,>=0.7.1 in /opt/conda/lib/python3.10/site-packages (from boto3) (1.0.1)\n",
      "Requirement already satisfied: s3transfer<0.11.0,>=0.10.0 in /opt/conda/lib/python3.10/site-packages (from boto3) (0.10.1)\n",
      "Requirement already satisfied: python-dateutil<3.0.0,>=2.1 in /opt/conda/lib/python3.10/site-packages (from botocore<1.35.0,>=1.34.95->boto3) (2.9.0)\n",
      "Requirement already satisfied: urllib3!=2.2.0,<3,>=1.25.4 in /opt/conda/lib/python3.10/site-packages (from botocore<1.35.0,>=1.34.95->boto3) (2.2.1)\n",
      "Requirement already satisfied: six>=1.5 in /opt/conda/lib/python3.10/site-packages (from python-dateutil<3.0.0,>=2.1->botocore<1.35.0,>=1.34.95->boto3) (1.16.0)\n",
      "\u001b[33mWARNING: Running pip as the 'root' user can result in broken permissions and conflicting behaviour with the system package manager. It is recommended to use a virtual environment instead: https://pip.pypa.io/warnings/venv\u001b[0m\u001b[33m\n",
      "\u001b[0mRequirement already satisfied: langchain-anthropic in /opt/conda/lib/python3.10/site-packages (0.1.13)\n",
      "Requirement already satisfied: anthropic<1,>=0.26.0 in /opt/conda/lib/python3.10/site-packages (from langchain-anthropic) (0.26.1)\n",
      "Requirement already satisfied: defusedxml<0.8.0,>=0.7.1 in /opt/conda/lib/python3.10/site-packages (from langchain-anthropic) (0.7.1)\n",
      "Requirement already satisfied: langchain-core<0.3,>=0.1.43 in /opt/conda/lib/python3.10/site-packages (from langchain-anthropic) (0.1.52)\n",
      "Requirement already satisfied: anyio<5,>=3.5.0 in /opt/conda/lib/python3.10/site-packages (from anthropic<1,>=0.26.0->langchain-anthropic) (4.3.0)\n",
      "Requirement already satisfied: distro<2,>=1.7.0 in /opt/conda/lib/python3.10/site-packages (from anthropic<1,>=0.26.0->langchain-anthropic) (1.8.0)\n",
      "Requirement already satisfied: httpx<1,>=0.23.0 in /opt/conda/lib/python3.10/site-packages (from anthropic<1,>=0.26.0->langchain-anthropic) (0.27.0)\n",
      "Requirement already satisfied: jiter<1,>=0.1.0 in /opt/conda/lib/python3.10/site-packages (from anthropic<1,>=0.26.0->langchain-anthropic) (0.1.0)\n",
      "Requirement already satisfied: pydantic<3,>=1.9.0 in /opt/conda/lib/python3.10/site-packages (from anthropic<1,>=0.26.0->langchain-anthropic) (2.7.0)\n",
      "Requirement already satisfied: sniffio in /opt/conda/lib/python3.10/site-packages (from anthropic<1,>=0.26.0->langchain-anthropic) (1.3.1)\n",
      "Requirement already satisfied: tokenizers>=0.13.0 in /opt/conda/lib/python3.10/site-packages (from anthropic<1,>=0.26.0->langchain-anthropic) (0.19.1)\n",
      "Requirement already satisfied: typing-extensions<5,>=4.7 in /opt/conda/lib/python3.10/site-packages (from anthropic<1,>=0.26.0->langchain-anthropic) (4.11.0)\n",
      "Requirement already satisfied: PyYAML>=5.3 in /opt/conda/lib/python3.10/site-packages (from langchain-core<0.3,>=0.1.43->langchain-anthropic) (6.0.1)\n",
      "Requirement already satisfied: jsonpatch<2.0,>=1.33 in /opt/conda/lib/python3.10/site-packages (from langchain-core<0.3,>=0.1.43->langchain-anthropic) (1.33)\n",
      "Requirement already satisfied: langsmith<0.2.0,>=0.1.0 in /opt/conda/lib/python3.10/site-packages (from langchain-core<0.3,>=0.1.43->langchain-anthropic) (0.1.60)\n",
      "Requirement already satisfied: packaging<24.0,>=23.2 in /opt/conda/lib/python3.10/site-packages (from langchain-core<0.3,>=0.1.43->langchain-anthropic) (23.2)\n",
      "Requirement already satisfied: tenacity<9.0.0,>=8.1.0 in /opt/conda/lib/python3.10/site-packages (from langchain-core<0.3,>=0.1.43->langchain-anthropic) (8.2.3)\n",
      "Requirement already satisfied: idna>=2.8 in /opt/conda/lib/python3.10/site-packages (from anyio<5,>=3.5.0->anthropic<1,>=0.26.0->langchain-anthropic) (3.6)\n",
      "Requirement already satisfied: exceptiongroup>=1.0.2 in /opt/conda/lib/python3.10/site-packages (from anyio<5,>=3.5.0->anthropic<1,>=0.26.0->langchain-anthropic) (1.2.0)\n",
      "Requirement already satisfied: certifi in /opt/conda/lib/python3.10/site-packages (from httpx<1,>=0.23.0->anthropic<1,>=0.26.0->langchain-anthropic) (2024.2.2)\n",
      "Requirement already satisfied: httpcore==1.* in /opt/conda/lib/python3.10/site-packages (from httpx<1,>=0.23.0->anthropic<1,>=0.26.0->langchain-anthropic) (1.0.5)\n",
      "Requirement already satisfied: h11<0.15,>=0.13 in /opt/conda/lib/python3.10/site-packages (from httpcore==1.*->httpx<1,>=0.23.0->anthropic<1,>=0.26.0->langchain-anthropic) (0.14.0)\n",
      "Requirement already satisfied: jsonpointer>=1.9 in /opt/conda/lib/python3.10/site-packages (from jsonpatch<2.0,>=1.33->langchain-core<0.3,>=0.1.43->langchain-anthropic) (2.4)\n",
      "Requirement already satisfied: orjson<4.0.0,>=3.9.14 in /opt/conda/lib/python3.10/site-packages (from langsmith<0.2.0,>=0.1.0->langchain-core<0.3,>=0.1.43->langchain-anthropic) (3.10.3)\n",
      "Requirement already satisfied: requests<3,>=2 in /opt/conda/lib/python3.10/site-packages (from langsmith<0.2.0,>=0.1.0->langchain-core<0.3,>=0.1.43->langchain-anthropic) (2.31.0)\n",
      "Requirement already satisfied: annotated-types>=0.4.0 in /opt/conda/lib/python3.10/site-packages (from pydantic<3,>=1.9.0->anthropic<1,>=0.26.0->langchain-anthropic) (0.6.0)\n",
      "Requirement already satisfied: pydantic-core==2.18.1 in /opt/conda/lib/python3.10/site-packages (from pydantic<3,>=1.9.0->anthropic<1,>=0.26.0->langchain-anthropic) (2.18.1)\n",
      "Requirement already satisfied: huggingface-hub<1.0,>=0.16.4 in /opt/conda/lib/python3.10/site-packages (from tokenizers>=0.13.0->anthropic<1,>=0.26.0->langchain-anthropic) (0.23.1)\n",
      "Requirement already satisfied: filelock in /opt/conda/lib/python3.10/site-packages (from huggingface-hub<1.0,>=0.16.4->tokenizers>=0.13.0->anthropic<1,>=0.26.0->langchain-anthropic) (3.13.4)\n",
      "Requirement already satisfied: fsspec>=2023.5.0 in /opt/conda/lib/python3.10/site-packages (from huggingface-hub<1.0,>=0.16.4->tokenizers>=0.13.0->anthropic<1,>=0.26.0->langchain-anthropic) (2024.3.1)\n",
      "Requirement already satisfied: tqdm>=4.42.1 in /opt/conda/lib/python3.10/site-packages (from huggingface-hub<1.0,>=0.16.4->tokenizers>=0.13.0->anthropic<1,>=0.26.0->langchain-anthropic) (4.66.1)\n",
      "Requirement already satisfied: charset-normalizer<4,>=2 in /opt/conda/lib/python3.10/site-packages (from requests<3,>=2->langsmith<0.2.0,>=0.1.0->langchain-core<0.3,>=0.1.43->langchain-anthropic) (3.3.2)\n",
      "Requirement already satisfied: urllib3<3,>=1.21.1 in /opt/conda/lib/python3.10/site-packages (from requests<3,>=2->langsmith<0.2.0,>=0.1.0->langchain-core<0.3,>=0.1.43->langchain-anthropic) (2.2.1)\n",
      "\u001b[33mWARNING: Running pip as the 'root' user can result in broken permissions and conflicting behaviour with the system package manager. It is recommended to use a virtual environment instead: https://pip.pypa.io/warnings/venv\u001b[0m\u001b[33m\n",
      "\u001b[0m"
     ]
    }
   ],
   "source": [
    "!pip install langchain==0.1.17\n",
    "!pip install faiss-cpu==1.8.0\n",
    "!pip install pypdf\n",
    "!pip install langchain_aws\n",
    "!pip install boto3\n",
    "!pip install langchain-anthropic"
   ]
  },
  {
   "cell_type": "markdown",
   "id": "93ae351d-fa3b-4b05-a810-b30118a63cd1",
   "metadata": {},
   "source": [
    "# Set up Bedrock client"
   ]
  },
  {
   "cell_type": "code",
   "execution_count": 19,
   "id": "de55dc94-0bd1-4da5-b716-ad0f5fd6ba6c",
   "metadata": {
    "tags": []
   },
   "outputs": [],
   "source": [
    "from langchain_aws import ChatBedrock\n",
    "from langchain_core.messages import HumanMessage\n",
    "from langchain.chains import ConversationChain\n",
    "from langchain.memory import ConversationBufferMemory\n",
    "from langchain.agents import load_tools, initialize_agent, Tool, AgentType\n",
    "from langchain.llms.bedrock import Bedrock\n",
    "from langchain.prompts import (\n",
    "    ChatPromptTemplate,\n",
    "    SystemMessagePromptTemplate,\n",
    "    HumanMessagePromptTemplate,\n",
    ")\n",
    "from langchain_core.output_parsers import StrOutputParser\n",
    "from langchain.tools import tool, StructuredTool\n",
    "from typing import Optional, List, Any\n",
    "import requests\n",
    "import json\n",
    "import re\n",
    "from PIL import Image\n",
    "from io import BytesIO, StringIO\n",
    "from IPython.display import display, Markdown, Pretty\n",
    "from langchain.callbacks.manager import CallbackManagerForLLMRun\n",
    "import sys\n",
    "import textwrap\n",
    "import boto3\n",
    "import os\n",
    "from pprint import pprint"
   ]
  },
  {
   "cell_type": "code",
   "execution_count": 11,
   "id": "ae2b2a05-78a9-40ca-9b5e-121030f9ede1",
   "metadata": {
    "tags": []
   },
   "outputs": [],
   "source": [
    "region = os.environ.get(\"AWS_REGION\")\n",
    "boto3_bedrock = boto3.client(\n",
    "    service_name='bedrock-runtime',\n",
    "    region_name=region,\n",
    ")"
   ]
  },
  {
   "cell_type": "markdown",
   "id": "8ee67162",
   "metadata": {},
   "source": [
    "# Get Bedrock LLM"
   ]
  },
  {
   "cell_type": "code",
   "execution_count": 12,
   "id": "2b8a161b",
   "metadata": {},
   "outputs": [],
   "source": [
    "model_parameter = {\"temperature\": 0.0, \"top_p\": .5, \"max_tokens_to_sample\": 2000}\n",
    "modelId = \"anthropic.claude-v2\"\n",
    "llm = ChatBedrock(\n",
    "    model_id=modelId,\n",
    "    client=boto3_bedrock,\n",
    "    model_kwargs={\"temperature\": 0.1},\n",
    ")"
   ]
  },
  {
   "cell_type": "markdown",
   "id": "91bc2e41",
   "metadata": {},
   "source": [
    "# Building an Agent"
   ]
  },
  {
   "cell_type": "markdown",
   "id": "27a2d00e-aaf9-46b8-ae85-0f5a684b20f3",
   "metadata": {
    "tags": []
   },
   "source": [
    "# 1. Tooling"
   ]
  },
  {
   "cell_type": "markdown",
   "id": "1c7ad721-ccbb-44e5-b9c6-f15ca2b75455",
   "metadata": {},
   "source": [
    "## 1.1 Weather tool"
   ]
  },
  {
   "cell_type": "code",
   "execution_count": 39,
   "id": "f64328fd",
   "metadata": {},
   "outputs": [],
   "source": [
    "@tool (\"get_lat_long\")\n",
    "def get_lat_long(place: str) -> dict:\n",
    "    \"\"\"Returns the latitude and longitude for a given place name as a dict object of python.\"\"\"\n",
    "    url = \"https://nominatim.openstreetmap.org/search\"\n",
    "\n",
    "    headers = {'User-Agent': 'Mozilla/5.0 (Macintosh; Intel Mac OS X 10_10_1) AppleWebKit/537.36 (KHTML, like Gecko) Chrome/39.0.2171.95 Safari/537.36'}\n",
    "    params = {'q': place, 'format': 'json', 'limit': 1}\n",
    "    response = requests.get(url, params=params, headers=headers).json()\n",
    "\n",
    "    if response:\n",
    "        lat = response[0][\"lat\"]\n",
    "        lon = response[0][\"lon\"]\n",
    "        return {\"latitude\": lat, \"longitude\": lon}\n",
    "    else:\n",
    "        return None"
   ]
  },
  {
   "cell_type": "markdown",
   "id": "e97236c3-0936-4162-9a4d-d60ddc4f1107",
   "metadata": {},
   "source": [
    "##  Try out the OSM API to retrieve coordinates"
   ]
  },
  {
   "cell_type": "code",
   "execution_count": 55,
   "id": "a02be2e9-d05f-4534-8c81-264fc1d35347",
   "metadata": {
    "tags": []
   },
   "outputs": [
    {
     "name": "stdout",
     "output_type": "stream",
     "text": [
      "{'latitude': '47.3744489', 'longitude': '8.5410422'}\n"
     ]
    }
   ],
   "source": [
    "# get the latitude and longitude for a certain location\n",
    "coordinates = get_lat_long(\"Zurich\")\n",
    "if not coordinates:\n",
    "    print(\"Something went wrong\")\n",
    "else:\n",
    "    print(coordinates)"
   ]
  },
  {
   "cell_type": "markdown",
   "id": "6b11d3d0-b9b8-421f-a019-785f1bec778f",
   "metadata": {},
   "source": [
    "# Task 1: The function below is incomplete. pls fix ;)"
   ]
  },
  {
   "cell_type": "code",
   "execution_count": null,
   "id": "67d80ed4-7077-48c0-9806-789c161a7b4a",
   "metadata": {},
   "outputs": [],
   "source": [
    "# Please fill in the missing pieces of the function definition to create a get_weather function that calls the open-meteo API for getting the current weather based on input coordinates (latitude and longitude)\n",
    "# use the requests library to call the URI and\n",
    "# return the response as dictionary\n",
    "\n",
    "@tool (\"get_weather\")\n",
    "def get_weather() -> dict:\n",
    "  \"\"\"Returns weather data for a given latitude and longitude.\"\"\"\n",
    "  url = f\"https://api.open-meteo.com/v1/forecast?latitude={}&longitude={}&current_weather=true\"\n",
    "    \n",
    "  return"
   ]
  },
  {
   "cell_type": "code",
   "execution_count": 56,
   "id": "061988d0-281a-40a4-ae4a-87464a69a3fd",
   "metadata": {
    "tags": []
   },
   "outputs": [
    {
     "data": {
      "text/plain": [
       "{'latitude': 47.38,\n",
       " 'longitude': 8.539999,\n",
       " 'generationtime_ms': 0.04100799560546875,\n",
       " 'utc_offset_seconds': 0,\n",
       " 'timezone': 'GMT',\n",
       " 'timezone_abbreviation': 'GMT',\n",
       " 'elevation': 416.0,\n",
       " 'current_weather_units': {'time': 'iso8601',\n",
       "  'interval': 'seconds',\n",
       "  'temperature': '°C',\n",
       "  'windspeed': 'km/h',\n",
       "  'winddirection': '°',\n",
       "  'is_day': '',\n",
       "  'weathercode': 'wmo code'},\n",
       " 'current_weather': {'time': '2024-05-21T19:30',\n",
       "  'interval': 900,\n",
       "  'temperature': 14.9,\n",
       "  'windspeed': 5.8,\n",
       "  'winddirection': 176,\n",
       "  'is_day': 0,\n",
       "  'weathercode': 80}}"
      ]
     },
     "execution_count": 56,
     "metadata": {},
     "output_type": "execute_result"
    }
   ],
   "source": [
    "# if your function is ready, you can retrieve the weather for the coordinates from above\n",
    "response = get_weather(coordinates)\n",
    "response"
   ]
  },
  {
   "cell_type": "markdown",
   "id": "40beae09-03a8-4765-bd9f-8e0bd7359e07",
   "metadata": {},
   "source": [
    "## Ask the LLM how the weather is in a specific location"
   ]
  },
  {
   "cell_type": "code",
   "execution_count": 42,
   "id": "391f56f1-39a5-4143-bed1-1c4517bdc751",
   "metadata": {
    "tags": []
   },
   "outputs": [
    {
     "data": {
      "text/plain": [
       "AIMessage(content='Unfortunately I don\\'t have direct access to real-time weather data for specific locations. However, I can suggest searching the web or using a weather app to look up the current weather conditions in Zurich. You could search for something like \"Zurich weather\" to find weather reports and forecasts for that city. Let me know if you need any other help finding weather information!', additional_kwargs={'usage': {'prompt_tokens': 20, 'completion_tokens': 80, 'total_tokens': 100}}, response_metadata={'model_id': 'anthropic.claude-v2', 'usage': {'prompt_tokens': 20, 'completion_tokens': 80, 'total_tokens': 100}}, id='run-0c358ac2-c84a-49a6-b435-a2f21d16c09c-0')"
      ]
     },
     "execution_count": 42,
     "metadata": {},
     "output_type": "execute_result"
    }
   ],
   "source": [
    "llm.invoke(\"Can you check the weather in Zurich for me?\")"
   ]
  },
  {
   "cell_type": "markdown",
   "id": "23771f7e-337a-4e05-8375-b05994bc0248",
   "metadata": {},
   "source": [
    "## It is not able ot answer, so let's add a tool to make it capable to do so"
   ]
  },
  {
   "cell_type": "markdown",
   "id": "84727c20-15c1-41b9-9ac1-4d0cd81b28f8",
   "metadata": {},
   "source": [
    "## 1.2 Provide weather tool to LLM"
   ]
  },
  {
   "cell_type": "code",
   "execution_count": 43,
   "id": "445b9ade",
   "metadata": {},
   "outputs": [
    {
     "data": {
      "text/plain": [
       "Tool:name=get_lat_long::args={'place': {'title': 'Place', 'type': 'string'}}:: discription=get_lat_long(place: str) -> dict - Returns the latitude and longitude for a given place name as a dict object of python.::"
      ]
     },
     "metadata": {},
     "output_type": "display_data"
    },
    {
     "data": {
      "text/plain": [
       "Tool:name=get_weather::args={'latitude': {'title': 'Latitude', 'type': 'string'}, 'longitude': {'title': 'Longitude', 'type': 'string'}}:: discription=get_weather(latitude: str, longitude: str) -> dict - Returns weather data for a given latitude and longitude.::"
      ]
     },
     "metadata": {},
     "output_type": "display_data"
    }
   ],
   "source": [
    "tools_list = [get_lat_long, get_weather]\n",
    "for tools_s in tools_list:\n",
    "    display(Pretty((f\"Tool:name={tools_s.name}::args={tools_s.args}:: discription={tools_s.description}::\")))"
   ]
  },
  {
   "cell_type": "code",
   "execution_count": 44,
   "id": "6f3e1b74",
   "metadata": {},
   "outputs": [
    {
     "name": "stdout",
     "output_type": "stream",
     "text": [
      "('The prompt:template:used:was ---- > \\n'\n",
      " '\\n'\n",
      " \"input_variables=['agent_scratchpad', 'input'] \"\n",
      " 'messages=[SystemMessagePromptTemplate(prompt=PromptTemplate(input_variables=[], '\n",
      " \"template='Respond to the human as helpfully and accurately as possible. You \"\n",
      " 'have access to the following tools:\\\\n\\\\nget_lat_long: get_lat_long(place: '\n",
      " 'str) -> dict - Returns the latitude and longitude for a given place name as '\n",
      " \"a dict object of python., args: {{\\\\'place\\\\': {{\\\\'title\\\\': \\\\'Place\\\\', \"\n",
      " \"\\\\'type\\\\': \\\\'string\\\\'}}}}\\\\nget_weather: get_weather(latitude: str, \"\n",
      " 'longitude: str) -> dict - Returns weather data for a given latitude and '\n",
      " \"longitude., args: {{\\\\'latitude\\\\': {{\\\\'title\\\\': \\\\'Latitude\\\\', \"\n",
      " \"\\\\'type\\\\': \\\\'string\\\\'}}, \\\\'longitude\\\\': {{\\\\'title\\\\': \\\\'Longitude\\\\', \"\n",
      " \"\\\\'type\\\\': \\\\'string\\\\'}}}}\\\\n\\\\nUse a json blob to specify a tool by \"\n",
      " 'providing an action key (tool name) and an action_input key (tool '\n",
      " 'input).\\\\n\\\\nValid \"action\" values: \"Final Answer\" or get_lat_long, '\n",
      " 'get_weather\\\\n\\\\nProvide only ONE action per $JSON_BLOB, as '\n",
      " 'shown:\\\\n\\\\n```\\\\n{{\\\\n  \"action\": $TOOL_NAME,\\\\n  \"action_input\": '\n",
      " '$INPUT\\\\n}}\\\\n```\\\\n\\\\nFollow this format:\\\\n\\\\nQuestion: input question to '\n",
      " 'answer\\\\nThought: consider previous and subsequent '\n",
      " 'steps\\\\nAction:\\\\n```\\\\n$JSON_BLOB\\\\n```\\\\nObservation: action result\\\\n... '\n",
      " '(repeat Thought/Action/Observation N times)\\\\nThought: I know what to '\n",
      " 'respond\\\\nAction:\\\\n```\\\\n{{\\\\n  \"action\": \"Final Answer\",\\\\n  '\n",
      " '\"action_input\": \"Final response to human\"\\\\n}}\\\\n```\\\\n\\\\nBegin! Reminder to '\n",
      " 'ALWAYS respond with a valid json blob of a single action. Use tools if '\n",
      " 'necessary. Respond directly if appropriate. Format is '\n",
      " \"Action:```$JSON_BLOB```then Observation:.\\\\nThought:')), \"\n",
      " \"HumanMessagePromptTemplate(prompt=PromptTemplate(input_variables=['agent_scratchpad', \"\n",
      " \"'input'], template='{input}\\\\n\\\\n{agent_scratchpad}'))]\\n\")\n"
     ]
    }
   ],
   "source": [
    "llm_agent = initialize_agent(\n",
    "    tools_list, \n",
    "    llm, \n",
    "    agent=AgentType.STRUCTURED_CHAT_ZERO_SHOT_REACT_DESCRIPTION, #SELF_ASK_WITH_SEARCH,# CONVERSATIONAL_REACT_DESCRIPTION, # ZERO_SHOT_REACT_DESCRIPTION, \n",
    "    verbose=True,\n",
    "    max_iteration=3,\n",
    "    return_intermediate_steps=True,\n",
    "    max_execution_time=60\n",
    ")\n",
    "pprint(f\"The prompt:template:used:was ---- > \\n\\n{llm_agent.agent.llm_chain.prompt}\\n\")"
   ]
  },
  {
   "cell_type": "code",
   "execution_count": 45,
   "id": "225200f4-cb2d-447d-b1dd-b7822a7b0f58",
   "metadata": {
    "tags": []
   },
   "outputs": [
    {
     "name": "stdout",
     "output_type": "stream",
     "text": [
      "\n",
      "\n",
      "\u001b[1m> Entering new AgentExecutor chain...\u001b[0m\n",
      "\u001b[32;1m\u001b[1;3mLet me check on that for you.\n",
      "\n",
      "Thought: To look up the weather in Zurich, I first need to get the latitude and longitude coordinates for Zurich. I can use the get_lat_long tool for that.\n",
      "\n",
      "Action:\n",
      "```json\n",
      "{\n",
      "  \"action\": \"get_lat_long\",\n",
      "  \"action_input\": \"Zurich\"\n",
      "}\n",
      "```\n",
      "\n",
      "\u001b[0m\n",
      "Observation: \u001b[36;1m\u001b[1;3m{'latitude': '47.3744489', 'longitude': '8.5410422'}\u001b[0m\n",
      "Thought:\u001b[32;1m\u001b[1;3mNow that I have the latitude and longitude for Zurich, I can use the get_weather tool to get the current weather data for that location.\n",
      "\n",
      "Action:\n",
      "```json  \n",
      "{\n",
      "  \"action\": \"get_weather\",\n",
      "  \"action_input\": {\n",
      "    \"latitude\": \"47.3744489\",\n",
      "    \"longitude\": \"8.5410422\"\n",
      "  }\n",
      "}\n",
      "```\n",
      "\n",
      "\u001b[0m\n",
      "Observation: \u001b[33;1m\u001b[1;3m{'latitude': 47.38, 'longitude': 8.539999, 'generationtime_ms': 0.04303455352783203, 'utc_offset_seconds': 0, 'timezone': 'GMT', 'timezone_abbreviation': 'GMT', 'elevation': 416.0, 'current_weather_units': {'time': 'iso8601', 'interval': 'seconds', 'temperature': '°C', 'windspeed': 'km/h', 'winddirection': '°', 'is_day': '', 'weathercode': 'wmo code'}, 'current_weather': {'time': '2024-05-21T19:30', 'interval': 900, 'temperature': 14.9, 'windspeed': 5.8, 'winddirection': 176, 'is_day': 0, 'weathercode': 80}}\u001b[0m\n",
      "Thought:\u001b[32;1m\u001b[1;3mHere is the current weather in Zurich based on the latitude and longitude I looked up:\n",
      "\n",
      "The current temperature is 14.9°C. The wind speed is 5.8 km/h from the south (176°). The weather code indicates broken clouds. This data is as of 7:30 PM local Zurich time.\n",
      "\n",
      "Let me know if you need any other weather information for Zurich!\n",
      "\n",
      "Action:\n",
      "```json\n",
      "{\n",
      "  \"action\": \"Final Answer\", \n",
      "  \"action_input\": \"Here is the current weather in Zurich based on the latitude and longitude I looked up:\n",
      "\n",
      "The current temperature is 14.9°C. The wind speed is 5.8 km/h from the south (176°). The weather code indicates broken clouds. This data is as of 7:30 PM local Zurich time.  \n",
      "\n",
      "Let me know if you need any other weather information for Zurich!\"\n",
      "}\n",
      "```\u001b[0m\n",
      "\n",
      "\u001b[1m> Finished chain.\u001b[0m\n"
     ]
    },
    {
     "data": {
      "text/plain": [
       "{'input': 'Can you check the weather in Zurich for me?',\n",
       " 'output': 'Here is the current weather in Zurich based on the latitude and longitude I looked up:\\n\\nThe current temperature is 14.9°C. The wind speed is 5.8 km/h from the south (176°). The weather code indicates broken clouds. This data is as of 7:30 PM local Zurich time.  \\n\\nLet me know if you need any other weather information for Zurich!',\n",
       " 'intermediate_steps': [(AgentAction(tool='get_lat_long', tool_input='Zurich', log='Let me check on that for you.\\n\\nThought: To look up the weather in Zurich, I first need to get the latitude and longitude coordinates for Zurich. I can use the get_lat_long tool for that.\\n\\nAction:\\n```json\\n{\\n  \"action\": \"get_lat_long\",\\n  \"action_input\": \"Zurich\"\\n}\\n```\\n\\n'),\n",
       "   {'latitude': '47.3744489', 'longitude': '8.5410422'}),\n",
       "  (AgentAction(tool='get_weather', tool_input={'latitude': '47.3744489', 'longitude': '8.5410422'}, log='Now that I have the latitude and longitude for Zurich, I can use the get_weather tool to get the current weather data for that location.\\n\\nAction:\\n```json  \\n{\\n  \"action\": \"get_weather\",\\n  \"action_input\": {\\n    \"latitude\": \"47.3744489\",\\n    \"longitude\": \"8.5410422\"\\n  }\\n}\\n```\\n\\n'),\n",
       "   {'latitude': 47.38,\n",
       "    'longitude': 8.539999,\n",
       "    'generationtime_ms': 0.04303455352783203,\n",
       "    'utc_offset_seconds': 0,\n",
       "    'timezone': 'GMT',\n",
       "    'timezone_abbreviation': 'GMT',\n",
       "    'elevation': 416.0,\n",
       "    'current_weather_units': {'time': 'iso8601',\n",
       "     'interval': 'seconds',\n",
       "     'temperature': '°C',\n",
       "     'windspeed': 'km/h',\n",
       "     'winddirection': '°',\n",
       "     'is_day': '',\n",
       "     'weathercode': 'wmo code'},\n",
       "    'current_weather': {'time': '2024-05-21T19:30',\n",
       "     'interval': 900,\n",
       "     'temperature': 14.9,\n",
       "     'windspeed': 5.8,\n",
       "     'winddirection': 176,\n",
       "     'is_day': 0,\n",
       "     'weathercode': 80}})]}"
      ]
     },
     "execution_count": 45,
     "metadata": {},
     "output_type": "execute_result"
    }
   ],
   "source": [
    "llm_agent.invoke({\"input\": \"Can you check the weather in Zurich for me?\"})"
   ]
  },
  {
   "cell_type": "markdown",
   "id": "ce12af92-4bf7-41c2-9db4-7575cd2b9896",
   "metadata": {
    "tags": []
   },
   "source": [
    "# 2. Create retriever tool for RAG (retrieval augmented generation)"
   ]
  },
  {
   "cell_type": "markdown",
   "id": "c3935c54-c5a6-46eb-896b-dbd4ceeec54f",
   "metadata": {
    "tags": []
   },
   "source": [
    "## 2.1 Create Vector DB in memory with Amazon SageMaker FAQ as content\n",
    "The file can be [found here](./rag_data/Amazon_SageMaker_FAQs.pdf)"
   ]
  },
  {
   "cell_type": "code",
   "execution_count": 47,
   "id": "8796092f",
   "metadata": {},
   "outputs": [
    {
     "name": "stdout",
     "output_type": "stream",
     "text": [
      "functools.partial(<function _get_relevant_documents at 0x7fa8e5cf60e0>, retriever=VectorStoreRetriever(tags=['FAISS', 'BedrockEmbeddings'], vectorstore=<langchain_community.vectorstores.faiss.FAISS object at 0x7fa8e4857550>, search_kwargs={'k': 4}), document_prompt=PromptTemplate(input_variables=['page_content'], template='{page_content}'), document_separator='\\n\\n')\n"
     ]
    },
    {
     "data": {
      "text/plain": [
       "{'title': 'RetrieverInput',\n",
       " 'description': 'Input to the retriever.',\n",
       " 'type': 'object',\n",
       " 'properties': {'query': {'title': 'Query',\n",
       "   'description': 'query to look up in retriever',\n",
       "   'type': 'string'}},\n",
       " 'required': ['query']}"
      ]
     },
     "execution_count": 47,
     "metadata": {},
     "output_type": "execute_result"
    }
   ],
   "source": [
    "from langchain.tools.retriever import create_retriever_tool\n",
    "from langchain_community.document_loaders import TextLoader, PyPDFLoader\n",
    "from langchain_community.vectorstores import FAISS\n",
    "from langchain_text_splitters import CharacterTextSplitter\n",
    "from langchain.embeddings.bedrock import BedrockEmbeddings\n",
    "from langchain_aws.chat_models.bedrock import ChatBedrock\n",
    "from langchain.memory import ConversationBufferMemory\n",
    "\n",
    "loader = PyPDFLoader(\"./rag_data/Amazon_SageMaker_FAQs.pdf\")\n",
    "bedrock_client = boto3_bedrock\n",
    "texts = CharacterTextSplitter(chunk_size=1000, chunk_overlap=0).split_documents(loader.load())\n",
    "embed_model = BedrockEmbeddings(model_id=\"amazon.titan-embed-text-v1\", client=bedrock_client)\n",
    "#- create the vector store\n",
    "db = FAISS.from_documents(texts, embed_model)\n",
    "\n",
    "retriever = db.as_retriever(search_kwargs={\"k\": 4})\n",
    "tool_search = create_retriever_tool(\n",
    "    retriever=retriever,\n",
    "    name=\"search_sagemaker_policy\",\n",
    "    description=\"Searches and returns excerpts for any question about SageMaker\",\n",
    ")\n",
    "pprint(tool_search.func)\n",
    "tool_search.args_schema.schema()"
   ]
  },
  {
   "cell_type": "markdown",
   "id": "b0d2ba27-91ed-48ed-a91d-a7901702b17b",
   "metadata": {},
   "source": [
    "# Task 2: Based on the implementation from above, please add the retriever functionality as tool and initialize the agent again "
   ]
  },
  {
   "cell_type": "code",
   "execution_count": 48,
   "id": "9b105b09-6b44-4982-b0ad-7506ddf8ae73",
   "metadata": {
    "tags": []
   },
   "outputs": [],
   "source": [
    "# write your code here, no imports are needed. Take the retriever tool from above and integrate it into the LLM, to be able to interact with the SageMaker FAQ document\n",
    "\n",
    "\n",
    "\n"
   ]
  },
  {
   "cell_type": "markdown",
   "id": "68ec23f7",
   "metadata": {},
   "source": [
    "## Let's test the retriever tool"
   ]
  },
  {
   "cell_type": "code",
   "execution_count": 49,
   "id": "138ff91d",
   "metadata": {},
   "outputs": [
    {
     "ename": "NameError",
     "evalue": "name 'react_agent' is not defined",
     "output_type": "error",
     "traceback": [
      "\u001b[0;31m---------------------------------------------------------------------------\u001b[0m",
      "\u001b[0;31mNameError\u001b[0m                                 Traceback (most recent call last)",
      "Cell \u001b[0;32mIn[49], line 2\u001b[0m\n\u001b[1;32m      1\u001b[0m \u001b[38;5;66;03m# After finishing, test your new tool by running this cell\u001b[39;00m\n\u001b[0;32m----> 2\u001b[0m \u001b[43mreact_agent\u001b[49m\u001b[38;5;241m.\u001b[39minvoke({\u001b[38;5;124m\"\u001b[39m\u001b[38;5;124minput\u001b[39m\u001b[38;5;124m\"\u001b[39m: \u001b[38;5;124m\"\u001b[39m\u001b[38;5;124mWhat is a Amazon SageMaker pipeline?\u001b[39m\u001b[38;5;124m\"\u001b[39m})\n",
      "\u001b[0;31mNameError\u001b[0m: name 'react_agent' is not defined"
     ]
    }
   ],
   "source": [
    "# After finishing, test your new tool by running this cell\n",
    "llm_agent.invoke({\"input\": \"What is a Amazon SageMaker pipeline?\"})"
   ]
  },
  {
   "cell_type": "code",
   "execution_count": 63,
   "id": "356fdbf3-7956-4b32-af30-d078dcc0c2cb",
   "metadata": {
    "tags": []
   },
   "outputs": [
    {
     "name": "stdout",
     "output_type": "stream",
     "text": [
      "\n",
      "\n",
      "\u001b[1m> Entering new AgentExecutor chain...\u001b[0m\n",
      "\u001b[32;1m\u001b[1;3mLet me check on that for you.\n",
      "\n",
      "Thought: To get the weather for Porto, I first need to get the latitude and longitude coordinates using the get_lat_long tool.\n",
      "\n",
      "Action:\n",
      "```json\n",
      "{\n",
      "  \"action\": \"get_lat_long\",\n",
      "  \"action_input\": \"Porto\"\n",
      "}\n",
      "```\n",
      "\n",
      "\u001b[0m\n",
      "Observation: \u001b[36;1m\u001b[1;3m{'latitude': '41.1494512', 'longitude': '-8.6107884'}\u001b[0m\n",
      "Thought:\u001b[32;1m\u001b[1;3mNow that I have the latitude and longitude for Porto, I can get the current weather conditions using the get_weather tool.\n",
      "\n",
      "Action:\n",
      "```json  \n",
      "{\n",
      "  \"action\": \"get_weather\",\n",
      "  \"action_input\": {\n",
      "    \"latitude\": \"41.1494512\",\n",
      "    \"longitude\": \"-8.6107884\"\n",
      "  }\n",
      "}\n",
      "```\n",
      "\n",
      "\u001b[0m\n",
      "Observation: \u001b[33;1m\u001b[1;3m{'latitude': 41.15, 'longitude': -8.610001, 'generationtime_ms': 0.12099742889404297, 'utc_offset_seconds': 0, 'timezone': 'GMT', 'timezone_abbreviation': 'GMT', 'elevation': 97.0, 'current_weather_units': {'time': 'iso8601', 'interval': 'seconds', 'temperature': '°C', 'windspeed': 'km/h', 'winddirection': '°', 'is_day': '', 'weathercode': 'wmo code'}, 'current_weather': {'time': '2024-05-21T19:30', 'interval': 900, 'temperature': 15.5, 'windspeed': 10.5, 'winddirection': 262, 'is_day': 1, 'weathercode': 1}}\u001b[0m\n",
      "Thought:\u001b[32;1m\u001b[1;3mHere is the current weather for Porto:\n",
      "\n",
      "The latitude and longitude coordinates for Porto are 41.1494512, -8.6107884. The current weather shows a temperature of 15.5°C, wind speed of 10.5 km/h from the west, and clear skies. The weather data was generated at 7:30 PM GMT on May 21, 2024. Let me know if you need any other weather details for Porto!\n",
      "\n",
      "Action:\n",
      "```json\n",
      "{\n",
      "  \"action\": \"Final Answer\", \n",
      "  \"action_input\": \"Here is the current weather for Porto:\n",
      "\n",
      "The latitude and longitude coordinates for Porto are 41.1494512, -8.6107884. The current weather shows a temperature of 15.5°C, wind speed of 10.5 km/h from the west, and clear skies. The weather data was generated at 7:30 PM GMT on May 21, 2024. Let me know if you need any other weather details for Porto!\"\n",
      "}\n",
      "```\u001b[0m\n",
      "\n",
      "\u001b[1m> Finished chain.\u001b[0m\n"
     ]
    },
    {
     "data": {
      "text/plain": [
       "{'input': 'How is the weather in Porto',\n",
       " 'output': 'Here is the current weather for Porto:\\n\\nThe latitude and longitude coordinates for Porto are 41.1494512, -8.6107884. The current weather shows a temperature of 15.5°C, wind speed of 10.5 km/h from the west, and clear skies. The weather data was generated at 7:30 PM GMT on May 21, 2024. Let me know if you need any other weather details for Porto!',\n",
       " 'intermediate_steps': [(AgentAction(tool='get_lat_long', tool_input='Porto', log='Let me check on that for you.\\n\\nThought: To get the weather for Porto, I first need to get the latitude and longitude coordinates using the get_lat_long tool.\\n\\nAction:\\n```json\\n{\\n  \"action\": \"get_lat_long\",\\n  \"action_input\": \"Porto\"\\n}\\n```\\n\\n'),\n",
       "   {'latitude': '41.1494512', 'longitude': '-8.6107884'}),\n",
       "  (AgentAction(tool='get_weather', tool_input={'latitude': '41.1494512', 'longitude': '-8.6107884'}, log='Now that I have the latitude and longitude for Porto, I can get the current weather conditions using the get_weather tool.\\n\\nAction:\\n```json  \\n{\\n  \"action\": \"get_weather\",\\n  \"action_input\": {\\n    \"latitude\": \"41.1494512\",\\n    \"longitude\": \"-8.6107884\"\\n  }\\n}\\n```\\n\\n'),\n",
       "   {'latitude': 41.15,\n",
       "    'longitude': -8.610001,\n",
       "    'generationtime_ms': 0.12099742889404297,\n",
       "    'utc_offset_seconds': 0,\n",
       "    'timezone': 'GMT',\n",
       "    'timezone_abbreviation': 'GMT',\n",
       "    'elevation': 97.0,\n",
       "    'current_weather_units': {'time': 'iso8601',\n",
       "     'interval': 'seconds',\n",
       "     'temperature': '°C',\n",
       "     'windspeed': 'km/h',\n",
       "     'winddirection': '°',\n",
       "     'is_day': '',\n",
       "     'weathercode': 'wmo code'},\n",
       "    'current_weather': {'time': '2024-05-21T19:30',\n",
       "     'interval': 900,\n",
       "     'temperature': 15.5,\n",
       "     'windspeed': 10.5,\n",
       "     'winddirection': 262,\n",
       "     'is_day': 1,\n",
       "     'weathercode': 1}})]}"
      ]
     },
     "execution_count": 63,
     "metadata": {},
     "output_type": "execute_result"
    }
   ],
   "source": [
    "# Let's check whether the weather tool is still working\n",
    "llm_agent.invoke({\"input\": \"How is the weather in Porto\"})"
   ]
  },
  {
   "cell_type": "markdown",
   "id": "bb725970-34f9-4829-bf30-6ea08430d29b",
   "metadata": {
    "tags": []
   },
   "source": [
    "# 3. Build a dog image tool"
   ]
  },
  {
   "cell_type": "markdown",
   "id": "ed721794-9ab0-4c7a-b24c-626c804f6d92",
   "metadata": {},
   "source": [
    "# Task 3: Build a tool for the LLM that fetches images from different dog breeds."
   ]
  },
  {
   "cell_type": "code",
   "execution_count": 70,
   "id": "1ca72d54-5b57-4f96-aaf5-f16c4695e8d4",
   "metadata": {
    "tags": []
   },
   "outputs": [],
   "source": [
    "# Please use the Dog API (https://dog.ceo/dog-api/documentation), and more specifically the random breed endpoint (https://dog.ceo/dog-api/breeds-list)\n",
    "# Based on a breed input, the LLM should have a tool available to call the API\n",
    "# at the end of the notebook, you can find code to display the image, the task is done, if you can display a random image based on the LLM output"
   ]
  },
  {
   "cell_type": "code",
   "execution_count": 65,
   "id": "b02bb57a-865e-4504-9cdc-1c4722730239",
   "metadata": {
    "tags": []
   },
   "outputs": [],
   "source": [
    "# function"
   ]
  },
  {
   "cell_type": "code",
   "execution_count": 66,
   "id": "318dbbe8-2269-4ac1-94eb-4ea3889b11d1",
   "metadata": {
    "tags": []
   },
   "outputs": [],
   "source": [
    "# agent"
   ]
  },
  {
   "cell_type": "code",
   "execution_count": 67,
   "id": "94f632e0-2126-40cf-a208-493acee5ce2c",
   "metadata": {
    "tags": []
   },
   "outputs": [
    {
     "name": "stdout",
     "output_type": "stream",
     "text": [
      "\n",
      "\n",
      "\u001b[1m> Entering new AgentExecutor chain...\u001b[0m\n",
      "\u001b[32;1m\u001b[1;3mHere is a JSON blob to get a labrador image using the get_dog_image tool:\n",
      "\n",
      "Action:\n",
      "```\n",
      "{\n",
      "  \"action\": \"get_dog_image\",\n",
      "  \"action_input\": \"labrador\" \n",
      "}\n",
      "```\n",
      "\n",
      "\u001b[0m\n",
      "Observation: \u001b[38;5;200m\u001b[1;3m{'message': 'https://images.dog.ceo/breeds/labrador/n02099712_8719.jpg', 'status': 'success'}\u001b[0m\n",
      "Thought:\u001b[32;1m\u001b[1;3mHere is a labrador image:\n",
      "\n",
      "Action:\n",
      "```\n",
      "{\n",
      "  \"action\": \"Final Answer\", \n",
      "  \"action_input\": \"Here is a labrador image: https://images.dog.ceo/breeds/labrador/n02099712_8719.jpg\"\n",
      "}\n",
      "```\u001b[0m\n",
      "\n",
      "\u001b[1m> Finished chain.\u001b[0m\n"
     ]
    },
    {
     "data": {
      "text/plain": [
       "{'input': 'give me a labrador image',\n",
       " 'output': 'Here is a labrador image: https://images.dog.ceo/breeds/labrador/n02099712_8719.jpg',\n",
       " 'intermediate_steps': [(AgentAction(tool='get_dog_image', tool_input='labrador', log='Here is a JSON blob to get a labrador image using the get_dog_image tool:\\n\\nAction:\\n```\\n{\\n  \"action\": \"get_dog_image\",\\n  \"action_input\": \"labrador\" \\n}\\n```\\n\\n'),\n",
       "   {'message': 'https://images.dog.ceo/breeds/labrador/n02099712_8719.jpg',\n",
       "    'status': 'success'})]}"
      ]
     },
     "execution_count": 67,
     "metadata": {},
     "output_type": "execute_result"
    }
   ],
   "source": [
    "chain_output = llm_agent.invoke({\"input\": \"give me a labrador image\"})\n",
    "chain_output"
   ]
  },
  {
   "cell_type": "markdown",
   "id": "cf1aa193-4580-42a2-ab55-95147d7534b0",
   "metadata": {
    "tags": []
   },
   "source": [
    "## Display the dog image"
   ]
  },
  {
   "cell_type": "code",
   "execution_count": 69,
   "id": "98c5be21-79fb-4d08-86d5-0e531827e290",
   "metadata": {
    "tags": []
   },
   "outputs": [
    {
     "data": {
      "image/jpeg": "[encoded data removed]",
      "image/png": "[encoded data removed]",
      "text/plain": [
       "<PIL.JpegImagePlugin.JpegImageFile image mode=RGB size=330x463>"
      ]
     },
     "metadata": {},
     "output_type": "display_data"
    }
   ],
   "source": [
    "if chain_output:\n",
    "    output_str = chain_output[\"output\"]\n",
    "    url_pattern = r'(https?://[^\\s]+)'\n",
    "    url = re.findall(url_pattern, output_str)[0]\n",
    "    print(url)\n",
    "else:\n",
    "    raise TypeError(\"Output cannot be of NoneType\")\n",
    "\n",
    "# Send a GET request to the URL\n",
    "response = requests.get(url)\n",
    "\n",
    "# Check if the request was successful\n",
    "if response.status_code == 200:\n",
    "    # Open the image from the response content\n",
    "    img = Image.open(BytesIO(response.content))\n",
    "    \n",
    "    # Display the image in the notebook\n",
    "    display(img)\n",
    "else:\n",
    "    print(\"Failed to retrieve the image\")\n"
   ]
  },
  {
   "cell_type": "code",
   "execution_count": null,
   "id": "4daaebf8-befc-4361-a3ac-a751f9eae4b4",
   "metadata": {},
   "outputs": [],
   "source": []
  }
 ],
 "metadata": {
  "availableInstances": [
   {
    "_defaultOrder": 0,
    "_isFastLaunch": true,
    "category": "General purpose",
    "gpuNum": 0,
    "hideHardwareSpecs": false,
    "memoryGiB": 4,
    "name": "ml.t3.medium",
    "vcpuNum": 2
   },
   {
    "_defaultOrder": 1,
    "_isFastLaunch": false,
    "category": "General purpose",
    "gpuNum": 0,
    "hideHardwareSpecs": false,
    "memoryGiB": 8,
    "name": "ml.t3.large",
    "vcpuNum": 2
   },
   {
    "_defaultOrder": 2,
    "_isFastLaunch": false,
    "category": "General purpose",
    "gpuNum": 0,
    "hideHardwareSpecs": false,
    "memoryGiB": 16,
    "name": "ml.t3.xlarge",
    "vcpuNum": 4
   },
   {
    "_defaultOrder": 3,
    "_isFastLaunch": false,
    "category": "General purpose",
    "gpuNum": 0,
    "hideHardwareSpecs": false,
    "memoryGiB": 32,
    "name": "ml.t3.2xlarge",
    "vcpuNum": 8
   },
   {
    "_defaultOrder": 4,
    "_isFastLaunch": true,
    "category": "General purpose",
    "gpuNum": 0,
    "hideHardwareSpecs": false,
    "memoryGiB": 8,
    "name": "ml.m5.large",
    "vcpuNum": 2
   },
   {
    "_defaultOrder": 5,
    "_isFastLaunch": false,
    "category": "General purpose",
    "gpuNum": 0,
    "hideHardwareSpecs": false,
    "memoryGiB": 16,
    "name": "ml.m5.xlarge",
    "vcpuNum": 4
   },
   {
    "_defaultOrder": 6,
    "_isFastLaunch": false,
    "category": "General purpose",
    "gpuNum": 0,
    "hideHardwareSpecs": false,
    "memoryGiB": 32,
    "name": "ml.m5.2xlarge",
    "vcpuNum": 8
   },
   {
    "_defaultOrder": 7,
    "_isFastLaunch": false,
    "category": "General purpose",
    "gpuNum": 0,
    "hideHardwareSpecs": false,
    "memoryGiB": 64,
    "name": "ml.m5.4xlarge",
    "vcpuNum": 16
   },
   {
    "_defaultOrder": 8,
    "_isFastLaunch": false,
    "category": "General purpose",
    "gpuNum": 0,
    "hideHardwareSpecs": false,
    "memoryGiB": 128,
    "name": "ml.m5.8xlarge",
    "vcpuNum": 32
   },
   {
    "_defaultOrder": 9,
    "_isFastLaunch": false,
    "category": "General purpose",
    "gpuNum": 0,
    "hideHardwareSpecs": false,
    "memoryGiB": 192,
    "name": "ml.m5.12xlarge",
    "vcpuNum": 48
   },
   {
    "_defaultOrder": 10,
    "_isFastLaunch": false,
    "category": "General purpose",
    "gpuNum": 0,
    "hideHardwareSpecs": false,
    "memoryGiB": 256,
    "name": "ml.m5.16xlarge",
    "vcpuNum": 64
   },
   {
    "_defaultOrder": 11,
    "_isFastLaunch": false,
    "category": "General purpose",
    "gpuNum": 0,
    "hideHardwareSpecs": false,
    "memoryGiB": 384,
    "name": "ml.m5.24xlarge",
    "vcpuNum": 96
   },
   {
    "_defaultOrder": 12,
    "_isFastLaunch": false,
    "category": "General purpose",
    "gpuNum": 0,
    "hideHardwareSpecs": false,
    "memoryGiB": 8,
    "name": "ml.m5d.large",
    "vcpuNum": 2
   },
   {
    "_defaultOrder": 13,
    "_isFastLaunch": false,
    "category": "General purpose",
    "gpuNum": 0,
    "hideHardwareSpecs": false,
    "memoryGiB": 16,
    "name": "ml.m5d.xlarge",
    "vcpuNum": 4
   },
   {
    "_defaultOrder": 14,
    "_isFastLaunch": false,
    "category": "General purpose",
    "gpuNum": 0,
    "hideHardwareSpecs": false,
    "memoryGiB": 32,
    "name": "ml.m5d.2xlarge",
    "vcpuNum": 8
   },
   {
    "_defaultOrder": 15,
    "_isFastLaunch": false,
    "category": "General purpose",
    "gpuNum": 0,
    "hideHardwareSpecs": false,
    "memoryGiB": 64,
    "name": "ml.m5d.4xlarge",
    "vcpuNum": 16
   },
   {
    "_defaultOrder": 16,
    "_isFastLaunch": false,
    "category": "General purpose",
    "gpuNum": 0,
    "hideHardwareSpecs": false,
    "memoryGiB": 128,
    "name": "ml.m5d.8xlarge",
    "vcpuNum": 32
   },
   {
    "_defaultOrder": 17,
    "_isFastLaunch": false,
    "category": "General purpose",
    "gpuNum": 0,
    "hideHardwareSpecs": false,
    "memoryGiB": 192,
    "name": "ml.m5d.12xlarge",
    "vcpuNum": 48
   },
   {
    "_defaultOrder": 18,
    "_isFastLaunch": false,
    "category": "General purpose",
    "gpuNum": 0,
    "hideHardwareSpecs": false,
    "memoryGiB": 256,
    "name": "ml.m5d.16xlarge",
    "vcpuNum": 64
   },
   {
    "_defaultOrder": 19,
    "_isFastLaunch": false,
    "category": "General purpose",
    "gpuNum": 0,
    "hideHardwareSpecs": false,
    "memoryGiB": 384,
    "name": "ml.m5d.24xlarge",
    "vcpuNum": 96
   },
   {
    "_defaultOrder": 20,
    "_isFastLaunch": false,
    "category": "General purpose",
    "gpuNum": 0,
    "hideHardwareSpecs": true,
    "memoryGiB": 0,
    "name": "ml.geospatial.interactive",
    "supportedImageNames": [
     "sagemaker-geospatial-v1-0"
    ],
    "vcpuNum": 0
   },
   {
    "_defaultOrder": 21,
    "_isFastLaunch": true,
    "category": "Compute optimized",
    "gpuNum": 0,
    "hideHardwareSpecs": false,
    "memoryGiB": 4,
    "name": "ml.c5.large",
    "vcpuNum": 2
   },
   {
    "_defaultOrder": 22,
    "_isFastLaunch": false,
    "category": "Compute optimized",
    "gpuNum": 0,
    "hideHardwareSpecs": false,
    "memoryGiB": 8,
    "name": "ml.c5.xlarge",
    "vcpuNum": 4
   },
   {
    "_defaultOrder": 23,
    "_isFastLaunch": false,
    "category": "Compute optimized",
    "gpuNum": 0,
    "hideHardwareSpecs": false,
    "memoryGiB": 16,
    "name": "ml.c5.2xlarge",
    "vcpuNum": 8
   },
   {
    "_defaultOrder": 24,
    "_isFastLaunch": false,
    "category": "Compute optimized",
    "gpuNum": 0,
    "hideHardwareSpecs": false,
    "memoryGiB": 32,
    "name": "ml.c5.4xlarge",
    "vcpuNum": 16
   },
   {
    "_defaultOrder": 25,
    "_isFastLaunch": false,
    "category": "Compute optimized",
    "gpuNum": 0,
    "hideHardwareSpecs": false,
    "memoryGiB": 72,
    "name": "ml.c5.9xlarge",
    "vcpuNum": 36
   },
   {
    "_defaultOrder": 26,
    "_isFastLaunch": false,
    "category": "Compute optimized",
    "gpuNum": 0,
    "hideHardwareSpecs": false,
    "memoryGiB": 96,
    "name": "ml.c5.12xlarge",
    "vcpuNum": 48
   },
   {
    "_defaultOrder": 27,
    "_isFastLaunch": false,
    "category": "Compute optimized",
    "gpuNum": 0,
    "hideHardwareSpecs": false,
    "memoryGiB": 144,
    "name": "ml.c5.18xlarge",
    "vcpuNum": 72
   },
   {
    "_defaultOrder": 28,
    "_isFastLaunch": false,
    "category": "Compute optimized",
    "gpuNum": 0,
    "hideHardwareSpecs": false,
    "memoryGiB": 192,
    "name": "ml.c5.24xlarge",
    "vcpuNum": 96
   },
   {
    "_defaultOrder": 29,
    "_isFastLaunch": true,
    "category": "Accelerated computing",
    "gpuNum": 1,
    "hideHardwareSpecs": false,
    "memoryGiB": 16,
    "name": "ml.g4dn.xlarge",
    "vcpuNum": 4
   },
   {
    "_defaultOrder": 30,
    "_isFastLaunch": false,
    "category": "Accelerated computing",
    "gpuNum": 1,
    "hideHardwareSpecs": false,
    "memoryGiB": 32,
    "name": "ml.g4dn.2xlarge",
    "vcpuNum": 8
   },
   {
    "_defaultOrder": 31,
    "_isFastLaunch": false,
    "category": "Accelerated computing",
    "gpuNum": 1,
    "hideHardwareSpecs": false,
    "memoryGiB": 64,
    "name": "ml.g4dn.4xlarge",
    "vcpuNum": 16
   },
   {
    "_defaultOrder": 32,
    "_isFastLaunch": false,
    "category": "Accelerated computing",
    "gpuNum": 1,
    "hideHardwareSpecs": false,
    "memoryGiB": 128,
    "name": "ml.g4dn.8xlarge",
    "vcpuNum": 32
   },
   {
    "_defaultOrder": 33,
    "_isFastLaunch": false,
    "category": "Accelerated computing",
    "gpuNum": 4,
    "hideHardwareSpecs": false,
    "memoryGiB": 192,
    "name": "ml.g4dn.12xlarge",
    "vcpuNum": 48
   },
   {
    "_defaultOrder": 34,
    "_isFastLaunch": false,
    "category": "Accelerated computing",
    "gpuNum": 1,
    "hideHardwareSpecs": false,
    "memoryGiB": 256,
    "name": "ml.g4dn.16xlarge",
    "vcpuNum": 64
   },
   {
    "_defaultOrder": 35,
    "_isFastLaunch": false,
    "category": "Accelerated computing",
    "gpuNum": 1,
    "hideHardwareSpecs": false,
    "memoryGiB": 61,
    "name": "ml.p3.2xlarge",
    "vcpuNum": 8
   },
   {
    "_defaultOrder": 36,
    "_isFastLaunch": false,
    "category": "Accelerated computing",
    "gpuNum": 4,
    "hideHardwareSpecs": false,
    "memoryGiB": 244,
    "name": "ml.p3.8xlarge",
    "vcpuNum": 32
   },
   {
    "_defaultOrder": 37,
    "_isFastLaunch": false,
    "category": "Accelerated computing",
    "gpuNum": 8,
    "hideHardwareSpecs": false,
    "memoryGiB": 488,
    "name": "ml.p3.16xlarge",
    "vcpuNum": 64
   },
   {
    "_defaultOrder": 38,
    "_isFastLaunch": false,
    "category": "Accelerated computing",
    "gpuNum": 8,
    "hideHardwareSpecs": false,
    "memoryGiB": 768,
    "name": "ml.p3dn.24xlarge",
    "vcpuNum": 96
   },
   {
    "_defaultOrder": 39,
    "_isFastLaunch": false,
    "category": "Memory Optimized",
    "gpuNum": 0,
    "hideHardwareSpecs": false,
    "memoryGiB": 16,
    "name": "ml.r5.large",
    "vcpuNum": 2
   },
   {
    "_defaultOrder": 40,
    "_isFastLaunch": false,
    "category": "Memory Optimized",
    "gpuNum": 0,
    "hideHardwareSpecs": false,
    "memoryGiB": 32,
    "name": "ml.r5.xlarge",
    "vcpuNum": 4
   },
   {
    "_defaultOrder": 41,
    "_isFastLaunch": false,
    "category": "Memory Optimized",
    "gpuNum": 0,
    "hideHardwareSpecs": false,
    "memoryGiB": 64,
    "name": "ml.r5.2xlarge",
    "vcpuNum": 8
   },
   {
    "_defaultOrder": 42,
    "_isFastLaunch": false,
    "category": "Memory Optimized",
    "gpuNum": 0,
    "hideHardwareSpecs": false,
    "memoryGiB": 128,
    "name": "ml.r5.4xlarge",
    "vcpuNum": 16
   },
   {
    "_defaultOrder": 43,
    "_isFastLaunch": false,
    "category": "Memory Optimized",
    "gpuNum": 0,
    "hideHardwareSpecs": false,
    "memoryGiB": 256,
    "name": "ml.r5.8xlarge",
    "vcpuNum": 32
   },
   {
    "_defaultOrder": 44,
    "_isFastLaunch": false,
    "category": "Memory Optimized",
    "gpuNum": 0,
    "hideHardwareSpecs": false,
    "memoryGiB": 384,
    "name": "ml.r5.12xlarge",
    "vcpuNum": 48
   },
   {
    "_defaultOrder": 45,
    "_isFastLaunch": false,
    "category": "Memory Optimized",
    "gpuNum": 0,
    "hideHardwareSpecs": false,
    "memoryGiB": 512,
    "name": "ml.r5.16xlarge",
    "vcpuNum": 64
   },
   {
    "_defaultOrder": 46,
    "_isFastLaunch": false,
    "category": "Memory Optimized",
    "gpuNum": 0,
    "hideHardwareSpecs": false,
    "memoryGiB": 768,
    "name": "ml.r5.24xlarge",
    "vcpuNum": 96
   },
   {
    "_defaultOrder": 47,
    "_isFastLaunch": false,
    "category": "Accelerated computing",
    "gpuNum": 1,
    "hideHardwareSpecs": false,
    "memoryGiB": 16,
    "name": "ml.g5.xlarge",
    "vcpuNum": 4
   },
   {
    "_defaultOrder": 48,
    "_isFastLaunch": false,
    "category": "Accelerated computing",
    "gpuNum": 1,
    "hideHardwareSpecs": false,
    "memoryGiB": 32,
    "name": "ml.g5.2xlarge",
    "vcpuNum": 8
   },
   {
    "_defaultOrder": 49,
    "_isFastLaunch": false,
    "category": "Accelerated computing",
    "gpuNum": 1,
    "hideHardwareSpecs": false,
    "memoryGiB": 64,
    "name": "ml.g5.4xlarge",
    "vcpuNum": 16
   },
   {
    "_defaultOrder": 50,
    "_isFastLaunch": false,
    "category": "Accelerated computing",
    "gpuNum": 1,
    "hideHardwareSpecs": false,
    "memoryGiB": 128,
    "name": "ml.g5.8xlarge",
    "vcpuNum": 32
   },
   {
    "_defaultOrder": 51,
    "_isFastLaunch": false,
    "category": "Accelerated computing",
    "gpuNum": 1,
    "hideHardwareSpecs": false,
    "memoryGiB": 256,
    "name": "ml.g5.16xlarge",
    "vcpuNum": 64
   },
   {
    "_defaultOrder": 52,
    "_isFastLaunch": false,
    "category": "Accelerated computing",
    "gpuNum": 4,
    "hideHardwareSpecs": false,
    "memoryGiB": 192,
    "name": "ml.g5.12xlarge",
    "vcpuNum": 48
   },
   {
    "_defaultOrder": 53,
    "_isFastLaunch": false,
    "category": "Accelerated computing",
    "gpuNum": 4,
    "hideHardwareSpecs": false,
    "memoryGiB": 384,
    "name": "ml.g5.24xlarge",
    "vcpuNum": 96
   },
   {
    "_defaultOrder": 54,
    "_isFastLaunch": false,
    "category": "Accelerated computing",
    "gpuNum": 8,
    "hideHardwareSpecs": false,
    "memoryGiB": 768,
    "name": "ml.g5.48xlarge",
    "vcpuNum": 192
   },
   {
    "_defaultOrder": 55,
    "_isFastLaunch": false,
    "category": "Accelerated computing",
    "gpuNum": 8,
    "hideHardwareSpecs": false,
    "memoryGiB": 1152,
    "name": "ml.p4d.24xlarge",
    "vcpuNum": 96
   },
   {
    "_defaultOrder": 56,
    "_isFastLaunch": false,
    "category": "Accelerated computing",
    "gpuNum": 8,
    "hideHardwareSpecs": false,
    "memoryGiB": 1152,
    "name": "ml.p4de.24xlarge",
    "vcpuNum": 96
   },
   {
    "_defaultOrder": 57,
    "_isFastLaunch": false,
    "category": "Accelerated computing",
    "gpuNum": 0,
    "hideHardwareSpecs": false,
    "memoryGiB": 32,
    "name": "ml.trn1.2xlarge",
    "vcpuNum": 8
   },
   {
    "_defaultOrder": 58,
    "_isFastLaunch": false,
    "category": "Accelerated computing",
    "gpuNum": 0,
    "hideHardwareSpecs": false,
    "memoryGiB": 512,
    "name": "ml.trn1.32xlarge",
    "vcpuNum": 128
   },
   {
    "_defaultOrder": 59,
    "_isFastLaunch": false,
    "category": "Accelerated computing",
    "gpuNum": 0,
    "hideHardwareSpecs": false,
    "memoryGiB": 512,
    "name": "ml.trn1n.32xlarge",
    "vcpuNum": 128
   }
  ],
  "instance_type": "ml.c5.large",
  "kernelspec": {
   "display_name": "Python 3 (Data Science 3.0)",
   "language": "python",
   "name": "python3__SAGEMAKER_INTERNAL__arn:aws:sagemaker:us-east-1:081325390199:image/sagemaker-data-science-310-v1"
  },
  "language_info": {
   "codemirror_mode": {
    "name": "ipython",
    "version": 3
   },
   "file_extension": ".py",
   "mimetype": "text/x-python",
   "name": "python",
   "nbconvert_exporter": "python",
   "pygments_lexer": "ipython3",
   "version": "3.10.6"
  }
 },
 "nbformat": 4,
 "nbformat_minor": 5
}
